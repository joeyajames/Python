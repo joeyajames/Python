{
 "cells": [
  {
   "cell_type": "markdown",
   "metadata": {},
   "source": [
    "# Python Generators\n",
    "[documentation](https://docs.python.org/3/howto/functional.html#generators)   \n",
    "[Another really good tutorial](https://realpython.com/introduction-to-python-generators/#using-generators)"
   ]
  },
  {
   "cell_type": "markdown",
   "metadata": {},
   "source": [
    "*yield* keyword makes a function into a generator. Python keeps the call stack for the generator function open and saves the state. When you invoke the next() function it will return execution to the same point it left off in the generator function."
   ]
  },
  {
   "cell_type": "markdown",
   "metadata": {},
   "source": [
    "### Simple generator function \n",
    "The while loop continues indefinitely. The function increments x then returns x with each iteration."
   ]
  },
  {
   "cell_type": "code",
   "execution_count": 28,
   "metadata": {},
   "outputs": [],
   "source": [
    "def my_generator(x=1):\n",
    "    while True:\n",
    "        yield x\n",
    "        x += 1"
   ]
  },
  {
   "cell_type": "markdown",
   "metadata": {},
   "source": [
    "### Using the generator with a for loop\n",
    "Here, gene is a my_generator function.  \n",
    "The for loop iterates through gene indefinitely.  \n",
    "Behind the scenes, the for loop is calling the generator's \\__next__ function.  \n",
    "Big advantages over Lists:  \n",
    "- Generator can provide an infinite seqence.  \n",
    "- Generator doesn't load values into memory. "
   ]
  },
  {
   "cell_type": "code",
   "execution_count": 29,
   "metadata": {},
   "outputs": [
    {
     "name": "stdout",
     "output_type": "stream",
     "text": [
      "<class 'generator'>\n",
      "1 2 3 4 5 6 7 8 9 10 11 12 13 14 15 16 17 18 19 20 21 22 23 24 25 26 27 28 29 30 31 32 33 34 35 36 37 38 39 40 41 "
     ]
    },
    {
     "ename": "KeyboardInterrupt",
     "evalue": "",
     "output_type": "error",
     "traceback": [
      "\u001b[0;31m---------------------------------------------------------------------------\u001b[0m",
      "\u001b[0;31mKeyboardInterrupt\u001b[0m                         Traceback (most recent call last)",
      "\u001b[0;32m<ipython-input-29-56f958421e1a>\u001b[0m in \u001b[0;36m<module>\u001b[0;34m\u001b[0m\n\u001b[1;32m      5\u001b[0m \u001b[0;32mfor\u001b[0m \u001b[0mi\u001b[0m \u001b[0;32min\u001b[0m \u001b[0mgene\u001b[0m\u001b[0;34m:\u001b[0m\u001b[0;34m\u001b[0m\u001b[0m\n\u001b[1;32m      6\u001b[0m     \u001b[0mprint\u001b[0m\u001b[0;34m(\u001b[0m\u001b[0mi\u001b[0m\u001b[0;34m,\u001b[0m \u001b[0mend\u001b[0m\u001b[0;34m=\u001b[0m\u001b[0;34m' '\u001b[0m\u001b[0;34m)\u001b[0m\u001b[0;34m\u001b[0m\u001b[0m\n\u001b[0;32m----> 7\u001b[0;31m     \u001b[0mtime\u001b[0m\u001b[0;34m.\u001b[0m\u001b[0msleep\u001b[0m\u001b[0;34m(\u001b[0m\u001b[0;36m0.5\u001b[0m\u001b[0;34m)\u001b[0m\u001b[0;34m\u001b[0m\u001b[0m\n\u001b[0m",
      "\u001b[0;31mKeyboardInterrupt\u001b[0m: "
     ]
    }
   ],
   "source": [
    "import time\n",
    "gene = my_generator()\n",
    "print(type(gene))\n",
    "\n",
    "for i in gene:\n",
    "    print(i, end=' ')\n",
    "    time.sleep(0.5)"
   ]
  },
  {
   "cell_type": "markdown",
   "metadata": {},
   "source": [
    "### Using the generator with explicit next( ) calls\n",
    "*range* limits this for loop to 10 iterations.  \n",
    "Each iteration of the for loop it calls the generator using *next(gene)*."
   ]
  },
  {
   "cell_type": "code",
   "execution_count": 30,
   "metadata": {},
   "outputs": [
    {
     "name": "stdout",
     "output_type": "stream",
     "text": [
      "1\n",
      "2 3 4 5 6 7 8 9 10 11 "
     ]
    }
   ],
   "source": [
    "gene = my_generator()\n",
    "print(gene.__next__())\n",
    "for i in range(10):\n",
    "    print(next(gene), end=' ')"
   ]
  },
  {
   "cell_type": "markdown",
   "metadata": {},
   "source": [
    "### Generators from Generator Expressions\n",
    "Similar to List Comprehensions, but uses ( ) rather than [ ].  \n",
    "Create with a single line of code.  \n",
    "Only use 120 bytes of memory."
   ]
  },
  {
   "cell_type": "code",
   "execution_count": 31,
   "metadata": {},
   "outputs": [
    {
     "name": "stdout",
     "output_type": "stream",
     "text": [
      "120\n",
      "<class 'generator'>\n",
      "0\n",
      "3\n"
     ]
    }
   ],
   "source": [
    "gene = (x for x in range(999999))\n",
    "\n",
    "import sys\n",
    "print(sys.getsizeof(gene))\n",
    "print(type(gene))\n",
    "\n",
    "print(next(gene))\n",
    "next(gene)\n",
    "next(gene)\n",
    "print(next(gene))"
   ]
  },
  {
   "cell_type": "markdown",
   "metadata": {},
   "source": [
    "### Generator to Read File\n",
    "Saves memory, and avoids memory overflow for very large files, because it only *loads one line into memory at a time*."
   ]
  },
  {
   "cell_type": "code",
   "execution_count": 32,
   "metadata": {},
   "outputs": [
    {
     "name": "stdout",
     "output_type": "stream",
     "text": [
      "Rolling Stones\n",
      "\n",
      "Lady Gaga\n",
      "Jackson Browne\n",
      "Maroon 5\n",
      "Arijit Singh\n",
      "Elton John\n",
      "John Mayer\n"
     ]
    }
   ],
   "source": [
    "def read_file(fn = 'bands.txt'):\n",
    "    for line in open(fn):\n",
    "        yield line\n",
    "  \n",
    "band = read_file()\n",
    "print(next(band))\n",
    "for i in range(6):\n",
    "    print(next(band), end='')"
   ]
  },
  {
   "cell_type": "code",
   "execution_count": null,
   "metadata": {},
   "outputs": [],
   "source": []
  }
 ],
 "metadata": {
  "kernelspec": {
   "display_name": "Python 3",
   "language": "python",
   "name": "python3"
  },
  "language_info": {
   "codemirror_mode": {
    "name": "ipython",
    "version": 3
   },
   "file_extension": ".py",
   "mimetype": "text/x-python",
   "name": "python",
   "nbconvert_exporter": "python",
   "pygments_lexer": "ipython3",
   "version": "3.7.0"
  }
 },
 "nbformat": 4,
 "nbformat_minor": 2
}
