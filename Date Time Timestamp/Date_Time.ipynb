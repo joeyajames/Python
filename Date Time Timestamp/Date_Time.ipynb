#date and time changes in Python
{
 "cells": [
  {
   "cell_type": "markdown",
   "metadata": {},
   "source": [
    "# Using Times, Dates & Timestamps in Python"
   ]
  },
  {
   "cell_type": "markdown",
   "metadata": {},
   "source": [
    "### Summary of Time and Date classes:\n",
    "**datetime**        # superclass for most of the date and time libraries  \n",
    "&nbsp;&nbsp;&nbsp;&nbsp;**date**        # general purpose date library  \n",
    "&nbsp;&nbsp;&nbsp;&nbsp;**time**        # general purpose time library  \n",
    "&nbsp;&nbsp;&nbsp;&nbsp;**datetime**    # for date and time in one object  \n",
    "&nbsp;&nbsp;&nbsp;&nbsp;**timedelta**   # for a duration or elapsed time   \n",
    "**time**            # for Unix timestamp and process_time  \n",
    "**calendar**        # for calendars  \n",
    "**dateutil**        # extended datetime functionality, esp string parsing and delta calculation"
   ]
  },
  {
   "cell_type": "markdown",
   "metadata": {},
   "source": [
    "### Today's Date\n",
    "- Use datetime.date.today()\n",
    "- datetime.date class has the following integer attributes, date(year, month, day)\n",
    "- get day of the week using date.weekday()   # Monday is 0"
   ]
  },
  {
   "cell_type": "code",
   "execution_count": 4,
   "metadata": {},
   "outputs": [
    {
     "name": "stdout",
     "output_type": "stream",
     "text": [
      "2019-02-03\n",
      "2 3 2019\n",
      "6\n"
     ]
    }
   ],
   "source": [
    "from datetime import date\n",
    "d1 = date.today()\n",
    "print(d1)\n",
    "print(d1.month, d1.day, d1.year)\n",
    "print(d1.weekday())"
   ]
  },
  {
   "cell_type": "markdown",
   "metadata": {},
   "source": [
    "### ISO format is a string format, yyyy-mm-dd\n",
    "- date_object.isoformat() does the same thing as str(date_object)"
   ]
  },
  {
   "cell_type": "code",
   "execution_count": 40,
   "metadata": {},
   "outputs": [
    {
     "name": "stdout",
     "output_type": "stream",
     "text": [
      "2011-11-23\n",
      "2011-11-23\n",
      "2011-11-23\n"
     ]
    },
    {
     "data": {
      "text/plain": [
       "datetime.date(2011, 11, 23)"
      ]
     },
     "execution_count": 40,
     "metadata": {},
     "output_type": "execute_result"
    }
   ],
   "source": [
    "d1 = date.fromisoformat('2011-11-23')\n",
    "print(d1)\n",
    "print(str(d1))\n",
    "print(d1.isoformat())\n",
    "d1"
   ]
  },
  {
   "cell_type": "markdown",
   "metadata": {},
   "source": [
    "### Comparison, addition and sutraction of dates\n",
    "- Comparison gives boolean result. Later date is greater than earlier date.\n",
    "- Date addition & subtraction give result as a datetime.timedelta object (explained more below).\n",
    "- The same comparison and add/subtract operations can be used with time objects."
   ]
  },
  {
   "cell_type": "code",
   "execution_count": 26,
   "metadata": {},
   "outputs": [
    {
     "name": "stdout",
     "output_type": "stream",
     "text": [
      "True\n",
      "1359 days, 0:00:00\n"
     ]
    }
   ],
   "source": [
    "d1 = date.today()\n",
    "d2 = date(2015, 5, 14)\n",
    "print(d1 > d2)\n",
    "print(d1 - d2)"
   ]
  },
  {
   "cell_type": "markdown",
   "metadata": {},
   "source": [
    "### Time\n",
    "- time objects have the following attributes, time(hour, minute, second, microsecond, tzinfo)\n",
    "- use datetime.time to compare time objects:  t1 < t2 if t1 occurs before t2\n",
    "  - attributes are all optional, so you can just work with hours and minutes if you want\n",
    "- daylight savings is handled by the time.dst() function (if tzinfo is set)"
   ]
  },
  {
   "cell_type": "code",
   "execution_count": 58,
   "metadata": {},
   "outputs": [
    {
     "name": "stdout",
     "output_type": "stream",
     "text": [
      "14:25:36.018625\n",
      "02:19:00\n",
      "False\n"
     ]
    }
   ],
   "source": [
    "from datetime import time\n",
    "t1 = time(14, 25, 36, 18625)\n",
    "print(t1)\n",
    "\n",
    "t2 = time(2, 19)\n",
    "print(t2)\n",
    "print(t1 < t2)"
   ]
  },
  {
   "cell_type": "markdown",
   "metadata": {},
   "source": [
    "### datetime.datetime combines date and time attributes into a datetime object\n",
    "- datetime.datetime(year, month, day, hour, minute, second, microsecond, tzinfo)\n",
    "- datetime.datetime objects can be used as dictionary keys\n",
    "- includes functions: date(), time()"
   ]
  },
  {
   "cell_type": "code",
   "execution_count": 76,
   "metadata": {},
   "outputs": [
    {
     "name": "stdout",
     "output_type": "stream",
     "text": [
      "1941-12-07 07:53:00\n",
      "1941-12-07\n",
      "07:53:00\n"
     ]
    }
   ],
   "source": [
    "from datetime import datetime\n",
    "dt1 = datetime(1941, 12, 7, 7, 53)\n",
    "print(dt1)\n",
    "print(dt1.date())\n",
    "print(dt1.time())"
   ]
  },
  {
   "cell_type": "markdown",
   "metadata": {},
   "source": [
    "### Use datetime.datetime.now() to get the current date and time"
   ]
  },
  {
   "cell_type": "code",
   "execution_count": 2,
   "metadata": {},
   "outputs": [
    {
     "name": "stdout",
     "output_type": "stream",
     "text": [
      "10:02:21.354040\n",
      "2019-02-03\n",
      "10 2\n",
      "2-3-2019\n"
     ]
    }
   ],
   "source": [
    "from datetime import datetime\n",
    "t3 = datetime.now()\n",
    "\n",
    "print(t3.time())\n",
    "print(t3.date())\n",
    "print(t3.hour, t3.minute)\n",
    "print(str(t3.month) + '-' + str(t3.day) + '-' + str(t3.year))"
   ]
  },
  {
   "cell_type": "markdown",
   "metadata": {},
   "source": [
    "### Use datetime.strftime() to get names of months and weekdays."
   ]
  },
  {
   "cell_type": "code",
   "execution_count": 1,
   "metadata": {},
   "outputs": [
    {
     "name": "stdout",
     "output_type": "stream",
     "text": [
      "Sunday\n",
      "Sun, Sunday, Feb, February, 02/03/19\n"
     ]
    }
   ],
   "source": [
    "from datetime import datetime\n",
    "t3 = datetime.now()\n",
    "print(t3.strftime('%A'))\n",
    "print(t3.strftime('%a, %A, %b, %B, %x'))"
   ]
  },
  {
   "cell_type": "markdown",
   "metadata": {},
   "source": [
    "### A timedelta is used for a duration, or the time difference between two dates or times\n",
    "- datetime.timedelta(days, seconds, microseconds)\n",
    "- A timedelta can also be multiplied or divided by an integer or float"
   ]
  },
  {
   "cell_type": "code",
   "execution_count": 3,
   "metadata": {},
   "outputs": [
    {
     "name": "stdout",
     "output_type": "stream",
     "text": [
      "461 days, 0:00:00 <class 'datetime.timedelta'>\n",
      "39830400.0\n",
      "1383 days, 0:00:00\n"
     ]
    }
   ],
   "source": [
    "from datetime import timedelta, date, time\n",
    "d1 = date(2011, 6, 15)\n",
    "d2 = date(2012, 9, 18)\n",
    "td = d2 - d1\n",
    "print(td, type(td))\n",
    "print(td.total_seconds())\n",
    "print(td * 3)"
   ]
  },
  {
   "cell_type": "code",
   "execution_count": 95,
   "metadata": {},
   "outputs": [
    {
     "name": "stdout",
     "output_type": "stream",
     "text": [
      "1008 days to event.\n",
      "1008 days, 0:00:00 days to event.\n"
     ]
    }
   ],
   "source": [
    "from datetime import datetime\n",
    "today = datetime.today().date()\n",
    "my_event = date(2021, 11, 6)\n",
    "days_to_event = abs(my_event - today)\n",
    "print(days_to_event.days, 'days to event.')\n",
    "print(days_to_event, 'days to event.')"
   ]
  },
  {
   "cell_type": "markdown",
   "metadata": {},
   "source": [
    "### Get a UNIX timestamp (time since the epoch)\n",
    "- A timestamp is the time since Jan 1, 1970 in seconds\n",
    "- Use time.time() to get timestamp\n",
    "- Use datetime.fromtimestamp(ts) and datetime.timestamp(datetime_obj) to convert between timestamp and datetime\n",
    "- Use time.process_time() to get runtime of an operation on your computer"
   ]
  },
  {
   "cell_type": "code",
   "execution_count": 117,
   "metadata": {},
   "outputs": [
    {
     "name": "stdout",
     "output_type": "stream",
     "text": [
      "1549156155.9644115\n",
      "Sat Feb  2 17:09:15 2019\n"
     ]
    }
   ],
   "source": [
    "import time\n",
    "ts = time.time()\n",
    "print(ts)\n",
    "print(time.ctime(ts))"
   ]
  },
  {
   "cell_type": "code",
   "execution_count": 118,
   "metadata": {},
   "outputs": [
    {
     "name": "stdout",
     "output_type": "stream",
     "text": [
      "2019-02-02 17:09:15.964411\n",
      "1549156155.964411\n"
     ]
    }
   ],
   "source": [
    "from datetime import datetime\n",
    "now = datetime.fromtimestamp(ts)\n",
    "print(now)\n",
    "print(datetime.timestamp(now))"
   ]
  },
  {
   "cell_type": "code",
   "execution_count": 119,
   "metadata": {},
   "outputs": [
    {
     "name": "stdout",
     "output_type": "stream",
     "text": [
      "operation executed in  0.0\n"
     ]
    }
   ],
   "source": [
    "start_time = time.process_time()\n",
    "# do some stuff\n",
    "end_time = time.process_time()\n",
    "print('operation executed in ', end_time - start_time)"
   ]
  },
  {
   "cell_type": "markdown",
   "metadata": {},
   "source": []
  },
  {
   "cell_type": "code",
   "execution_count": null,
   "metadata": {},
   "outputs": [],
   "source": []
  }
 ],
 "metadata": {
  "kernelspec": {
   "display_name": "Python 3",
   "language": "python",
   "name": "python3"
  },
  "language_info": {
   "codemirror_mode": {
    "name": "ipython",
    "version": 3
   },
   "file_extension": ".py",
   "mimetype": "text/x-python",
   "name": "python",
   "nbconvert_exporter": "python",
   "pygments_lexer": "ipython3",
   "version": "3.7.0"
  }
 },
 "nbformat": 4,
 "nbformat_minor": 2
}
