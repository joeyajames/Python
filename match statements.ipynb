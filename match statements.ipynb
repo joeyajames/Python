{
 "cells": [
  {
   "cell_type": "markdown",
   "metadata": {},
   "source": [
    "# Python 10 - Structural Pattern Matching\n",
    "### match statements  \n",
    "Very similar to switch/case statements in C, Java, and Javascript.  \n",
    "Can be used in lieu of if/elif/else blocks.  \n",
    "[documentation](https://www.python.org/dev/peps/pep-0622/)"
   ]
  },
  {
   "cell_type": "markdown",
   "metadata": {},
   "source": [
    "#### Can use integer for match variable..."
   ]
  },
  {
   "cell_type": "code",
   "execution_count": 1,
   "metadata": {},
   "outputs": [
    {
     "name": "stdout",
     "output_type": "stream",
     "text": [
      "large\n"
     ]
    }
   ],
   "source": [
    "var = 3\n",
    "\n",
    "match var:\n",
    "    case 1:\n",
    "        print('small')\n",
    "    case 2:\n",
    "        print('medium')\n",
    "    case 3:\n",
    "        print('large')"
   ]
  },
  {
   "cell_type": "markdown",
   "metadata": {},
   "source": [
    "#### ...or floating point..."
   ]
  },
  {
   "cell_type": "code",
   "execution_count": 2,
   "metadata": {},
   "outputs": [
    {
     "name": "stdout",
     "output_type": "stream",
     "text": [
      "large\n"
     ]
    }
   ],
   "source": [
    "var = 1.5\n",
    "\n",
    "match var:\n",
    "    case 1.3:\n",
    "        print('small')\n",
    "    case 1.4:\n",
    "        print('medium')\n",
    "    case 1.5:\n",
    "        print('large')"
   ]
  },
  {
   "cell_type": "markdown",
   "metadata": {},
   "source": [
    "#### ...or Tuple...\n",
    "Note here we also use a variable to receive *any* value."
   ]
  },
  {
   "cell_type": "code",
   "execution_count": 3,
   "metadata": {},
   "outputs": [
    {
     "name": "stdout",
     "output_type": "stream",
     "text": [
      "on x-axis\n"
     ]
    }
   ],
   "source": [
    "var = (8,0)\n",
    "\n",
    "match var:\n",
    "    case (0,x):\n",
    "        print('on y-axis')\n",
    "    case (x,0):\n",
    "        print('on x-axis')\n",
    "    case (x,y):\n",
    "        print('not on axis')"
   ]
  },
  {
   "cell_type": "markdown",
   "metadata": {},
   "source": [
    "#### ...or String"
   ]
  },
  {
   "cell_type": "code",
   "execution_count": 4,
   "metadata": {},
   "outputs": [
    {
     "name": "stdout",
     "output_type": "stream",
     "text": [
      "small\n"
     ]
    }
   ],
   "source": [
    "var = \"S\"\n",
    "\n",
    "match var:\n",
    "    case \"S\":\n",
    "        print('small')\n",
    "    case \"Med\":\n",
    "        print('medium')\n",
    "    case \"Lg\":\n",
    "        print('large')"
   ]
  },
  {
   "cell_type": "markdown",
   "metadata": {},
   "source": [
    "#### The Default case _  \n",
    "The default case, using underscore, is optional. "
   ]
  },
  {
   "cell_type": "code",
   "execution_count": 5,
   "metadata": {},
   "outputs": [
    {
     "name": "stdout",
     "output_type": "stream",
     "text": [
      "large\n"
     ]
    }
   ],
   "source": [
    "var = 4\n",
    "\n",
    "match var:\n",
    "    case 1:\n",
    "        print('small')\n",
    "    case 2:\n",
    "        print('medium')\n",
    "    case _:\n",
    "        print('large')"
   ]
  },
  {
   "cell_type": "markdown",
   "metadata": {},
   "source": [
    "#### Conditionals in case  \n",
    "*or* conditions (using bar) are supported in case statements."
   ]
  },
  {
   "cell_type": "code",
   "execution_count": 6,
   "metadata": {},
   "outputs": [
    {
     "name": "stdout",
     "output_type": "stream",
     "text": [
      "small\n"
     ]
    }
   ],
   "source": [
    "var = 2\n",
    "\n",
    "match var:\n",
    "    case 2 | 3:\n",
    "        print('small')\n",
    "    case 4 | 5 | 6:\n",
    "        print('medium')\n",
    "    case _:\n",
    "        print('large')"
   ]
  },
  {
   "cell_type": "markdown",
   "metadata": {},
   "source": [
    "#### No breaks needed\n",
    "*if* statements are supported, but must follow syntax, case var if (inequality expression).  \n",
    "\n",
    "Note that you do not need break statements. The match block will automatically end execution after one case is executed."
   ]
  },
  {
   "cell_type": "code",
   "execution_count": 7,
   "metadata": {},
   "outputs": [
    {
     "name": "stdout",
     "output_type": "stream",
     "text": [
      "A\n",
      "F\n"
     ]
    }
   ],
   "source": [
    "def print_grade(score):\n",
    "    match score:\n",
    "        # case score > 90      this does not work!\n",
    "        case score if score >= 90:\n",
    "            print('A')\n",
    "        case score if score >= 80:\n",
    "            print('B')\n",
    "        case score if score >= 70:\n",
    "            print('C')\n",
    "        case score if score >= 60:\n",
    "            print('D')\n",
    "        case _:\n",
    "            print('F')\n",
    "            \n",
    "print_grade(94)\n",
    "print_grade(48)"
   ]
  },
  {
   "cell_type": "markdown",
   "metadata": {},
   "source": [
    "#### Python Objects  \n",
    "Match statements can also use Python objects and instance variables.  \n",
    "In the final case here we could have used _ default case, but instead used x so that we could use the value of x in our print statement."
   ]
  },
  {
   "cell_type": "code",
   "execution_count": 8,
   "metadata": {},
   "outputs": [
    {
     "name": "stdout",
     "output_type": "stream",
     "text": [
      "medium\n",
      "Size XL is not recognized.\n"
     ]
    }
   ],
   "source": [
    "class T_shirt:\n",
    "    def __init__(self, s):\n",
    "        self.size = s\n",
    "\n",
    "    def order(self):\n",
    "        match self.size:\n",
    "            case 'S' | 'Sm':\n",
    "                print('small')\n",
    "            case 'M' | 'Med':\n",
    "                print('medium')\n",
    "            case 'L' | 'Lg':\n",
    "                print('large')\n",
    "            case x:\n",
    "                print(f'Size {x} is not recognized.')\n",
    "            \n",
    "shirt1 = T_shirt('Med')\n",
    "shirt1.order()\n",
    "\n",
    "shirt2 = T_shirt('XL')\n",
    "shirt2.order()"
   ]
  },
  {
   "cell_type": "code",
   "execution_count": null,
   "metadata": {},
   "outputs": [],
   "source": []
  }
 ],
 "metadata": {
  "kernelspec": {
   "display_name": "Python 3 (ipykernel)",
   "language": "python",
   "name": "python3"
  },
  "language_info": {
   "codemirror_mode": {
    "name": "ipython",
    "version": 3
   },
   "file_extension": ".py",
   "mimetype": "text/x-python",
   "name": "python",
   "nbconvert_exporter": "python",
   "pygments_lexer": "ipython3",
   "version": "3.10.0"
  }
 },
 "nbformat": 4,
 "nbformat_minor": 2
}
