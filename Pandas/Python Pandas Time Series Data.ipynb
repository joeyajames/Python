{
  "nbformat": 4,
  "nbformat_minor": 0,
  "metadata": {
    "kernelspec": {
      "display_name": "Python 3",
      "language": "python",
      "name": "python3"
    },
    "language_info": {
      "codemirror_mode": {
        "name": "ipython",
        "version": 3
      },
      "file_extension": ".py",
      "mimetype": "text/x-python",
      "name": "python",
      "nbconvert_exporter": "python",
      "pygments_lexer": "ipython3",
      "version": "3.7.0"
    },
    "colab": {
      "name": "Python Pandas Time Series Data.ipynb",
      "provenance": [],
      "toc_visible": true
    }
  },
  "cells": [
    {
      "cell_type": "markdown",
      "metadata": {
        "id": "uSZ2-WTJnTky"
      },
      "source": [
        "# Python Pandas Time Series Data\n",
        "[Documentation](https://pandas.pydata.org/docs/user_guide/timeseries.html)"
      ]
    },
    {
      "cell_type": "code",
      "metadata": {
        "id": "mIhs1hTHnTk1"
      },
      "source": [
        "import numpy as np\n",
        "import pandas as pd\n",
        "import datetime\n",
        "import random"
      ],
      "execution_count": 2,
      "outputs": []
    },
    {
      "cell_type": "markdown",
      "metadata": {
        "id": "ic3VUc0YrBbM"
      },
      "source": [
        "### View Data between Time or Date"
      ]
    },
    {
      "cell_type": "markdown",
      "metadata": {
        "id": "ORjWlaOZrN4z"
      },
      "source": [
        "Select values between particular times of the day (e.g., 9:00-9:30 AM)."
      ]
    },
    {
      "cell_type": "code",
      "metadata": {
        "id": "gAuAlTkyramD",
        "outputId": "fe6a5ea3-fcd3-4e3e-8395-1292e32156bc",
        "colab": {
          "base_uri": "https://localhost:8080/",
          "height": 111
        }
      },
      "source": [
        "i = pd.date_range('2018-04-09', periods=4, freq='1D20min')\n",
        "ts = pd.DataFrame({'A': [1, 2, 3, 4]}, index=i)\n",
        "ts.between_time('0:15', '0:45')"
      ],
      "execution_count": 3,
      "outputs": [
        {
          "output_type": "execute_result",
          "data": {
            "text/html": [
              "<div>\n",
              "<style scoped>\n",
              "    .dataframe tbody tr th:only-of-type {\n",
              "        vertical-align: middle;\n",
              "    }\n",
              "\n",
              "    .dataframe tbody tr th {\n",
              "        vertical-align: top;\n",
              "    }\n",
              "\n",
              "    .dataframe thead th {\n",
              "        text-align: right;\n",
              "    }\n",
              "</style>\n",
              "<table border=\"1\" class=\"dataframe\">\n",
              "  <thead>\n",
              "    <tr style=\"text-align: right;\">\n",
              "      <th></th>\n",
              "      <th>A</th>\n",
              "    </tr>\n",
              "  </thead>\n",
              "  <tbody>\n",
              "    <tr>\n",
              "      <th>2018-04-10 00:20:00</th>\n",
              "      <td>2</td>\n",
              "    </tr>\n",
              "    <tr>\n",
              "      <th>2018-04-11 00:40:00</th>\n",
              "      <td>3</td>\n",
              "    </tr>\n",
              "  </tbody>\n",
              "</table>\n",
              "</div>"
            ],
            "text/plain": [
              "                     A\n",
              "2018-04-10 00:20:00  2\n",
              "2018-04-11 00:40:00  3"
            ]
          },
          "metadata": {
            "tags": []
          },
          "execution_count": 3
        }
      ]
    },
    {
      "cell_type": "markdown",
      "metadata": {
        "id": "7Nt1kWA3nTk2"
      },
      "source": [
        "### Data Formats Supported\n",
        "Pandas datetime64 can interpret strings, Python datetime, and Numpy datetime64 objects.  \n",
        "Also note, a list of pd.datetime64 objects are automatically converted to a DatetimeIndex."
      ]
    },
    {
      "cell_type": "code",
      "metadata": {
        "id": "0uv-wg-UnTk3",
        "outputId": "b8860c83-b528-482b-a6ae-6475e2002e2f"
      },
      "source": [
        "a1 = pd.to_datetime([\n",
        "    '6/1/2020', \n",
        "    '6-2-2020',\n",
        "    datetime.datetime(2020, 6, 3),\n",
        "    np.datetime64('2020-06-04'),\n",
        "    np.datetime64('2020-06-05')])\n",
        "a1"
      ],
      "execution_count": null,
      "outputs": [
        {
          "output_type": "execute_result",
          "data": {
            "text/plain": [
              "DatetimeIndex(['2020-06-01', '2020-06-02', '2020-06-03', '2020-06-04',\n",
              "               '2020-06-05'],\n",
              "              dtype='datetime64[ns]', freq=None)"
            ]
          },
          "metadata": {
            "tags": []
          },
          "execution_count": 2
        }
      ]
    },
    {
      "cell_type": "markdown",
      "metadata": {
        "id": "HSqV0KNnnTk4"
      },
      "source": [
        "Pass in a format argument for custom formatted dates (case matters)."
      ]
    },
    {
      "cell_type": "code",
      "metadata": {
        "id": "RfX852bJnTk4",
        "outputId": "bbe22eeb-a2ec-4090-9d87-8fc283e9fbe1"
      },
      "source": [
        "a2 = pd.to_datetime(['2020/14/06', '2020/15/06'], format='%Y/%d/%m')\n",
        "a2"
      ],
      "execution_count": null,
      "outputs": [
        {
          "output_type": "execute_result",
          "data": {
            "text/plain": [
              "DatetimeIndex(['2020-06-14', '2020-06-15'], dtype='datetime64[ns]', freq=None)"
            ]
          },
          "metadata": {
            "tags": []
          },
          "execution_count": 3
        }
      ]
    },
    {
      "cell_type": "markdown",
      "metadata": {
        "id": "e_XsO4O7nTk5"
      },
      "source": [
        "Hours and Minutes too? No problem."
      ]
    },
    {
      "cell_type": "code",
      "metadata": {
        "id": "Z6S7Dzq5nTk6",
        "outputId": "d22800e1-6a26-4126-b35e-58da1426dee4"
      },
      "source": [
        "a3 = pd.to_datetime(\n",
        "    ['2020/6/8 14.05', '2020/6/9 06.45'], format='%Y/%d/%m %H.%M')\n",
        "a3"
      ],
      "execution_count": null,
      "outputs": [
        {
          "output_type": "execute_result",
          "data": {
            "text/plain": [
              "DatetimeIndex(['2020-08-06 14:05:00', '2020-09-06 06:45:00'], dtype='datetime64[ns]', freq=None)"
            ]
          },
          "metadata": {
            "tags": []
          },
          "execution_count": 4
        }
      ]
    },
    {
      "cell_type": "markdown",
      "metadata": {
        "id": "hAIweUh3nTk6"
      },
      "source": [
        "### Creating a datetime sequence with fixed intervals\n",
        "freq parameters:  \n",
        "  D=days, W=weeks, M=months, B=business days, BW=bus weeks, BM=bus months"
      ]
    },
    {
      "cell_type": "code",
      "metadata": {
        "id": "HBx1rqO5nTk7",
        "outputId": "3a2b7512-5bd5-4816-bc11-7e0ccbd73b9c"
      },
      "source": [
        "b1 = [random.random() for i in range(30)]\n",
        "b2 = pd.date_range('2020-06-01', periods=30, freq='1d')\n",
        "print(b2)\n",
        "df = pd.DataFrame({'M':b1}, index=b2)\n",
        "#df.loc['2020-06-18':]\n",
        "df[df['M'] > 0.8]"
      ],
      "execution_count": null,
      "outputs": [
        {
          "output_type": "stream",
          "text": [
            "DatetimeIndex(['2020-06-01', '2020-06-02', '2020-06-03', '2020-06-04',\n",
            "               '2020-06-05', '2020-06-06', '2020-06-07', '2020-06-08',\n",
            "               '2020-06-09', '2020-06-10', '2020-06-11', '2020-06-12',\n",
            "               '2020-06-13', '2020-06-14', '2020-06-15', '2020-06-16',\n",
            "               '2020-06-17', '2020-06-18', '2020-06-19', '2020-06-20',\n",
            "               '2020-06-21', '2020-06-22', '2020-06-23', '2020-06-24',\n",
            "               '2020-06-25', '2020-06-26', '2020-06-27', '2020-06-28',\n",
            "               '2020-06-29', '2020-06-30'],\n",
            "              dtype='datetime64[ns]', freq='D')\n"
          ],
          "name": "stdout"
        },
        {
          "output_type": "execute_result",
          "data": {
            "text/html": [
              "<div>\n",
              "<style scoped>\n",
              "    .dataframe tbody tr th:only-of-type {\n",
              "        vertical-align: middle;\n",
              "    }\n",
              "\n",
              "    .dataframe tbody tr th {\n",
              "        vertical-align: top;\n",
              "    }\n",
              "\n",
              "    .dataframe thead th {\n",
              "        text-align: right;\n",
              "    }\n",
              "</style>\n",
              "<table border=\"1\" class=\"dataframe\">\n",
              "  <thead>\n",
              "    <tr style=\"text-align: right;\">\n",
              "      <th></th>\n",
              "      <th>M</th>\n",
              "    </tr>\n",
              "  </thead>\n",
              "  <tbody>\n",
              "    <tr>\n",
              "      <th>2020-06-07</th>\n",
              "      <td>0.970080</td>\n",
              "    </tr>\n",
              "    <tr>\n",
              "      <th>2020-06-14</th>\n",
              "      <td>0.809867</td>\n",
              "    </tr>\n",
              "    <tr>\n",
              "      <th>2020-06-18</th>\n",
              "      <td>0.917428</td>\n",
              "    </tr>\n",
              "    <tr>\n",
              "      <th>2020-06-20</th>\n",
              "      <td>0.945739</td>\n",
              "    </tr>\n",
              "    <tr>\n",
              "      <th>2020-06-26</th>\n",
              "      <td>0.815245</td>\n",
              "    </tr>\n",
              "  </tbody>\n",
              "</table>\n",
              "</div>"
            ],
            "text/plain": [
              "                   M\n",
              "2020-06-07  0.970080\n",
              "2020-06-14  0.809867\n",
              "2020-06-18  0.917428\n",
              "2020-06-20  0.945739\n",
              "2020-06-26  0.815245"
            ]
          },
          "metadata": {
            "tags": []
          },
          "execution_count": 5
        }
      ]
    },
    {
      "cell_type": "code",
      "metadata": {
        "id": "QOdJD9-unTk8",
        "outputId": "9fe61fe6-f2b2-49e5-ed5a-abf5a808e38f"
      },
      "source": [
        "b3 = np.random.rand(52)\n",
        "b4 = pd.date_range('2020-06-01', periods=52, freq='W')\n",
        "df = pd.DataFrame(b3, index=b4)\n",
        "df['2020-07-10':'2020-07-28']"
      ],
      "execution_count": null,
      "outputs": [
        {
          "output_type": "execute_result",
          "data": {
            "text/html": [
              "<div>\n",
              "<style scoped>\n",
              "    .dataframe tbody tr th:only-of-type {\n",
              "        vertical-align: middle;\n",
              "    }\n",
              "\n",
              "    .dataframe tbody tr th {\n",
              "        vertical-align: top;\n",
              "    }\n",
              "\n",
              "    .dataframe thead th {\n",
              "        text-align: right;\n",
              "    }\n",
              "</style>\n",
              "<table border=\"1\" class=\"dataframe\">\n",
              "  <thead>\n",
              "    <tr style=\"text-align: right;\">\n",
              "      <th></th>\n",
              "      <th>0</th>\n",
              "    </tr>\n",
              "  </thead>\n",
              "  <tbody>\n",
              "    <tr>\n",
              "      <th>2020-07-12</th>\n",
              "      <td>0.581691</td>\n",
              "    </tr>\n",
              "    <tr>\n",
              "      <th>2020-07-19</th>\n",
              "      <td>0.611492</td>\n",
              "    </tr>\n",
              "    <tr>\n",
              "      <th>2020-07-26</th>\n",
              "      <td>0.933940</td>\n",
              "    </tr>\n",
              "  </tbody>\n",
              "</table>\n",
              "</div>"
            ],
            "text/plain": [
              "                   0\n",
              "2020-07-12  0.581691\n",
              "2020-07-19  0.611492\n",
              "2020-07-26  0.933940"
            ]
          },
          "metadata": {
            "tags": []
          },
          "execution_count": 61
        }
      ]
    },
    {
      "cell_type": "markdown",
      "metadata": {
        "id": "y0KEdw-0nTk8"
      },
      "source": [
        "Alternative to periods, you can give start and stop dates."
      ]
    },
    {
      "cell_type": "code",
      "metadata": {
        "id": "HBx2qNK7nTk8",
        "outputId": "05ddbfa7-1d91-4621-ce42-9ff079d599ee"
      },
      "source": [
        "b3 = pd.date_range('2020-06-30', '2020-12-31', freq='M')\n",
        "b3"
      ],
      "execution_count": null,
      "outputs": [
        {
          "output_type": "execute_result",
          "data": {
            "text/plain": [
              "DatetimeIndex(['2020-06-30', '2020-07-31', '2020-08-31', '2020-09-30',\n",
              "               '2020-10-31', '2020-11-30', '2020-12-31'],\n",
              "              dtype='datetime64[ns]', freq='M')"
            ]
          },
          "metadata": {
            "tags": []
          },
          "execution_count": 7
        }
      ]
    },
    {
      "cell_type": "markdown",
      "metadata": {
        "id": "T6e_CgkGnTk9"
      },
      "source": [
        "### Dates Index to/from CSV file\n",
        "Create DataFrame with Dates as Index, Write it to a CSV file, then Read in the CSV data and put the dates as Index"
      ]
    },
    {
      "cell_type": "code",
      "metadata": {
        "id": "sUHR2CrMnTk9",
        "outputId": "5f2db114-3963-4261-e35c-68c9a3358fa3"
      },
      "source": [
        "d1 = np.round(6 + 4 * np.random.randn(7), decimals=2)\n",
        "d2 = np.random.randint(12, 30, size=7)\n",
        "d3 = pd.Series(pd.date_range('2020-05-29', periods=7, freq='1d'))\n",
        "df = pd.DataFrame({'alpha':d1, 'beta':d2}, index=d3)\n",
        "\n",
        "df.to_csv('file01.csv')\n",
        "df"
      ],
      "execution_count": null,
      "outputs": [
        {
          "output_type": "execute_result",
          "data": {
            "text/html": [
              "<div>\n",
              "<style scoped>\n",
              "    .dataframe tbody tr th:only-of-type {\n",
              "        vertical-align: middle;\n",
              "    }\n",
              "\n",
              "    .dataframe tbody tr th {\n",
              "        vertical-align: top;\n",
              "    }\n",
              "\n",
              "    .dataframe thead th {\n",
              "        text-align: right;\n",
              "    }\n",
              "</style>\n",
              "<table border=\"1\" class=\"dataframe\">\n",
              "  <thead>\n",
              "    <tr style=\"text-align: right;\">\n",
              "      <th></th>\n",
              "      <th>alpha</th>\n",
              "      <th>beta</th>\n",
              "    </tr>\n",
              "  </thead>\n",
              "  <tbody>\n",
              "    <tr>\n",
              "      <th>2020-05-29</th>\n",
              "      <td>10.40</td>\n",
              "      <td>26</td>\n",
              "    </tr>\n",
              "    <tr>\n",
              "      <th>2020-05-30</th>\n",
              "      <td>8.92</td>\n",
              "      <td>26</td>\n",
              "    </tr>\n",
              "    <tr>\n",
              "      <th>2020-05-31</th>\n",
              "      <td>5.09</td>\n",
              "      <td>12</td>\n",
              "    </tr>\n",
              "    <tr>\n",
              "      <th>2020-06-01</th>\n",
              "      <td>3.87</td>\n",
              "      <td>27</td>\n",
              "    </tr>\n",
              "    <tr>\n",
              "      <th>2020-06-02</th>\n",
              "      <td>3.93</td>\n",
              "      <td>24</td>\n",
              "    </tr>\n",
              "    <tr>\n",
              "      <th>2020-06-03</th>\n",
              "      <td>4.79</td>\n",
              "      <td>16</td>\n",
              "    </tr>\n",
              "    <tr>\n",
              "      <th>2020-06-04</th>\n",
              "      <td>9.12</td>\n",
              "      <td>16</td>\n",
              "    </tr>\n",
              "  </tbody>\n",
              "</table>\n",
              "</div>"
            ],
            "text/plain": [
              "            alpha  beta\n",
              "2020-05-29  10.40    26\n",
              "2020-05-30   8.92    26\n",
              "2020-05-31   5.09    12\n",
              "2020-06-01   3.87    27\n",
              "2020-06-02   3.93    24\n",
              "2020-06-03   4.79    16\n",
              "2020-06-04   9.12    16"
            ]
          },
          "metadata": {
            "tags": []
          },
          "execution_count": 8
        }
      ]
    },
    {
      "cell_type": "code",
      "metadata": {
        "id": "k0AVXNlMnTk-",
        "outputId": "d9d94e0d-e532-4177-cbb9-29667f350170"
      },
      "source": [
        "df = pd.read_csv('file01.csv', index_col=0)\n",
        "print(type(df.index[2]))\n",
        "df.index = pd.to_datetime(df.index, format='%Y/%m/%d')\n",
        "print(type(df.index[2]))\n",
        "df[:'2020/05/31']"
      ],
      "execution_count": null,
      "outputs": [
        {
          "output_type": "stream",
          "text": [
            "<class 'str'>\n",
            "<class 'pandas._libs.tslibs.timestamps.Timestamp'>\n"
          ],
          "name": "stdout"
        },
        {
          "output_type": "execute_result",
          "data": {
            "text/html": [
              "<div>\n",
              "<style scoped>\n",
              "    .dataframe tbody tr th:only-of-type {\n",
              "        vertical-align: middle;\n",
              "    }\n",
              "\n",
              "    .dataframe tbody tr th {\n",
              "        vertical-align: top;\n",
              "    }\n",
              "\n",
              "    .dataframe thead th {\n",
              "        text-align: right;\n",
              "    }\n",
              "</style>\n",
              "<table border=\"1\" class=\"dataframe\">\n",
              "  <thead>\n",
              "    <tr style=\"text-align: right;\">\n",
              "      <th></th>\n",
              "      <th>alpha</th>\n",
              "      <th>beta</th>\n",
              "    </tr>\n",
              "  </thead>\n",
              "  <tbody>\n",
              "    <tr>\n",
              "      <th>2020-05-29</th>\n",
              "      <td>10.40</td>\n",
              "      <td>26</td>\n",
              "    </tr>\n",
              "    <tr>\n",
              "      <th>2020-05-30</th>\n",
              "      <td>8.92</td>\n",
              "      <td>26</td>\n",
              "    </tr>\n",
              "    <tr>\n",
              "      <th>2020-05-31</th>\n",
              "      <td>5.09</td>\n",
              "      <td>12</td>\n",
              "    </tr>\n",
              "  </tbody>\n",
              "</table>\n",
              "</div>"
            ],
            "text/plain": [
              "            alpha  beta\n",
              "2020-05-29  10.40    26\n",
              "2020-05-30   8.92    26\n",
              "2020-05-31   5.09    12"
            ]
          },
          "metadata": {
            "tags": []
          },
          "execution_count": 63
        }
      ]
    },
    {
      "cell_type": "markdown",
      "metadata": {
        "id": "Zn-3lbymndXQ"
      },
      "source": [
        ""
      ]
    },
    {
      "cell_type": "markdown",
      "metadata": {
        "id": "xsqmwGKgnTk-"
      },
      "source": [
        "### Constructing Dates from Multiple Columns\n",
        "You have Month, Day and Year in separate fields, and need to combine them into a single Datetime field."
      ]
    },
    {
      "cell_type": "code",
      "metadata": {
        "id": "OIOjEMZRnTk-",
        "outputId": "c0ff5e47-5908-4287-bcad-173d70a2916d"
      },
      "source": [
        "yyyy = [random.randint(1995,2020) for i in range(100)]\n",
        "mm = [random.randint(1,12) for i in range(100)]\n",
        "dd = [random.randint(1,28) for i in range(100)]\n",
        "data = [random.random() for i in range(100)]\n",
        "print(yyyy[5], mm[5], dd[5], data[5])"
      ],
      "execution_count": null,
      "outputs": [
        {
          "output_type": "stream",
          "text": [
            "2017 12 7 0.970109923902562\n"
          ],
          "name": "stdout"
        }
      ]
    },
    {
      "cell_type": "code",
      "metadata": {
        "id": "bTVqUhrznTk_",
        "outputId": "4b117e99-4ed2-47bc-d214-ec7f4129ca99"
      },
      "source": [
        "df1 = pd.DataFrame({'year': yyyy,'month': mm, 'day': dd})\n",
        "df1 = pd.to_datetime(df1) \n",
        "df2 = pd.Series(data)\n",
        "df = pd.concat([df1, df2], axis=1)\n",
        "df[:5]"
      ],
      "execution_count": null,
      "outputs": [
        {
          "output_type": "execute_result",
          "data": {
            "text/html": [
              "<div>\n",
              "<style scoped>\n",
              "    .dataframe tbody tr th:only-of-type {\n",
              "        vertical-align: middle;\n",
              "    }\n",
              "\n",
              "    .dataframe tbody tr th {\n",
              "        vertical-align: top;\n",
              "    }\n",
              "\n",
              "    .dataframe thead th {\n",
              "        text-align: right;\n",
              "    }\n",
              "</style>\n",
              "<table border=\"1\" class=\"dataframe\">\n",
              "  <thead>\n",
              "    <tr style=\"text-align: right;\">\n",
              "      <th></th>\n",
              "      <th>0</th>\n",
              "      <th>1</th>\n",
              "    </tr>\n",
              "  </thead>\n",
              "  <tbody>\n",
              "    <tr>\n",
              "      <th>0</th>\n",
              "      <td>2016-10-18</td>\n",
              "      <td>0.282307</td>\n",
              "    </tr>\n",
              "    <tr>\n",
              "      <th>1</th>\n",
              "      <td>2007-09-09</td>\n",
              "      <td>0.004984</td>\n",
              "    </tr>\n",
              "    <tr>\n",
              "      <th>2</th>\n",
              "      <td>2016-12-12</td>\n",
              "      <td>0.652762</td>\n",
              "    </tr>\n",
              "    <tr>\n",
              "      <th>3</th>\n",
              "      <td>2017-04-14</td>\n",
              "      <td>0.199284</td>\n",
              "    </tr>\n",
              "    <tr>\n",
              "      <th>4</th>\n",
              "      <td>2013-03-23</td>\n",
              "      <td>0.163154</td>\n",
              "    </tr>\n",
              "  </tbody>\n",
              "</table>\n",
              "</div>"
            ],
            "text/plain": [
              "           0         1\n",
              "0 2016-10-18  0.282307\n",
              "1 2007-09-09  0.004984\n",
              "2 2016-12-12  0.652762\n",
              "3 2017-04-14  0.199284\n",
              "4 2013-03-23  0.163154"
            ]
          },
          "metadata": {
            "tags": []
          },
          "execution_count": 64
        }
      ]
    },
    {
      "cell_type": "markdown",
      "metadata": {
        "id": "F0sdiRVPnTk_"
      },
      "source": [
        "### Pivot (Transpose) Rows & Columns\n",
        "You normally want dates as the row index, not the column headers.  \n",
        "Flip the rows and columns using T."
      ]
    },
    {
      "cell_type": "code",
      "metadata": {
        "id": "l2NfxEdHnTlA",
        "outputId": "7625f01b-24db-490d-fad5-52cd27b4eeac"
      },
      "source": [
        "df = pd.read_csv('pivot.csv')\n",
        "df = df.T\n",
        "df.head()"
      ],
      "execution_count": null,
      "outputs": [
        {
          "output_type": "execute_result",
          "data": {
            "text/html": [
              "<div>\n",
              "<style scoped>\n",
              "    .dataframe tbody tr th:only-of-type {\n",
              "        vertical-align: middle;\n",
              "    }\n",
              "\n",
              "    .dataframe tbody tr th {\n",
              "        vertical-align: top;\n",
              "    }\n",
              "\n",
              "    .dataframe thead th {\n",
              "        text-align: right;\n",
              "    }\n",
              "</style>\n",
              "<table border=\"1\" class=\"dataframe\">\n",
              "  <thead>\n",
              "    <tr style=\"text-align: right;\">\n",
              "      <th></th>\n",
              "      <th>0</th>\n",
              "    </tr>\n",
              "  </thead>\n",
              "  <tbody>\n",
              "    <tr>\n",
              "      <th>2016-10-18 00:00:00</th>\n",
              "      <td>0.282307</td>\n",
              "    </tr>\n",
              "    <tr>\n",
              "      <th>2007-09-09 00:00:00</th>\n",
              "      <td>0.004984</td>\n",
              "    </tr>\n",
              "    <tr>\n",
              "      <th>2016-12-12 00:00:00</th>\n",
              "      <td>0.652762</td>\n",
              "    </tr>\n",
              "    <tr>\n",
              "      <th>2017-04-14 00:00:00</th>\n",
              "      <td>0.199284</td>\n",
              "    </tr>\n",
              "    <tr>\n",
              "      <th>2013-03-23 00:00:00</th>\n",
              "      <td>0.163154</td>\n",
              "    </tr>\n",
              "  </tbody>\n",
              "</table>\n",
              "</div>"
            ],
            "text/plain": [
              "                            0\n",
              "2016-10-18 00:00:00  0.282307\n",
              "2007-09-09 00:00:00  0.004984\n",
              "2016-12-12 00:00:00  0.652762\n",
              "2017-04-14 00:00:00  0.199284\n",
              "2013-03-23 00:00:00  0.163154"
            ]
          },
          "metadata": {
            "tags": []
          },
          "execution_count": 57
        }
      ]
    },
    {
      "cell_type": "markdown",
      "metadata": {
        "id": "IyP9thBTnTlA"
      },
      "source": [
        "### Date Arithmetic"
      ]
    },
    {
      "cell_type": "code",
      "metadata": {
        "id": "uT9vsDUAnTlA",
        "outputId": "3ffc8218-14fe-4eef-c0c5-4c3305d6de4c"
      },
      "source": [
        "appointment = pd.Timestamp('2020-06-04')\n",
        "appointment.day_name()"
      ],
      "execution_count": null,
      "outputs": [
        {
          "output_type": "execute_result",
          "data": {
            "text/plain": [
              "'Thursday'"
            ]
          },
          "metadata": {
            "tags": []
          },
          "execution_count": 12
        }
      ]
    },
    {
      "cell_type": "markdown",
      "metadata": {
        "id": "cvXfrTN-nTlB"
      },
      "source": [
        "Uh oh! my appointment is delayed 2 days.  \n",
        "Here are 3 different ways to add 2 days to the date."
      ]
    },
    {
      "cell_type": "code",
      "metadata": {
        "id": "1jRa9MaAnTlB",
        "outputId": "d28e769e-2525-4022-89c2-600e1bf0f7c2"
      },
      "source": [
        "appointment = pd.Timestamp('2020-06-04')\n",
        "appointment += pd.Timedelta('2 days')\n",
        "appointment.day_name()"
      ],
      "execution_count": null,
      "outputs": [
        {
          "output_type": "execute_result",
          "data": {
            "text/plain": [
              "'Saturday'"
            ]
          },
          "metadata": {
            "tags": []
          },
          "execution_count": 13
        }
      ]
    },
    {
      "cell_type": "code",
      "metadata": {
        "id": "16a9phVNnTlB",
        "outputId": "11237e67-8195-4690-e593-0cc8d532108e"
      },
      "source": [
        "appointment = pd.Timestamp('2020-06-04')\n",
        "appointment += pd.Timedelta(days=2)\n",
        "appointment.day_name()"
      ],
      "execution_count": null,
      "outputs": [
        {
          "output_type": "execute_result",
          "data": {
            "text/plain": [
              "'Saturday'"
            ]
          },
          "metadata": {
            "tags": []
          },
          "execution_count": 14
        }
      ]
    },
    {
      "cell_type": "markdown",
      "metadata": {
        "id": "4UB7EVm-nTlB"
      },
      "source": [
        "Date offsets: Day, Hour, Minute, Second, Milli, Micro, Nano "
      ]
    },
    {
      "cell_type": "code",
      "metadata": {
        "id": "QQIiiY3mnTlB",
        "outputId": "4412828e-82e9-4f99-a5bd-8ddede6abb38"
      },
      "source": [
        "appointment = pd.Timestamp('2020-06-04')\n",
        "appointment += pd.offsets.Day(2)\n",
        "appointment.day_name()"
      ],
      "execution_count": null,
      "outputs": [
        {
          "output_type": "execute_result",
          "data": {
            "text/plain": [
              "'Saturday'"
            ]
          },
          "metadata": {
            "tags": []
          },
          "execution_count": 15
        }
      ]
    },
    {
      "cell_type": "markdown",
      "metadata": {
        "id": "-a5FteVUnTlC"
      },
      "source": [
        "NO, it's delayed 2 business days. "
      ]
    },
    {
      "cell_type": "code",
      "metadata": {
        "id": "76b7_ivnnTlC",
        "outputId": "2d4e56f4-e83b-4a09-d780-b98b4780fcf2"
      },
      "source": [
        "appointment = pd.Timestamp('2020-06-04')\n",
        "appointment += pd.offsets.BDay(2)\n",
        "appointment.day_name()"
      ],
      "execution_count": null,
      "outputs": [
        {
          "output_type": "execute_result",
          "data": {
            "text/plain": [
              "'Monday'"
            ]
          },
          "metadata": {
            "tags": []
          },
          "execution_count": 16
        }
      ]
    }
  ]
}